{
 "cells": [
  {
   "cell_type": "markdown",
   "metadata": {},
   "source": [
    "## Scavenger Hunt"
   ]
  },
  {
   "cell_type": "markdown",
   "metadata": {},
   "source": [
    "By using the browser's *inspect* tool, I was able to find within the HTML and CSS code the first two parts of the flag:\n",
    "\n",
    "<img src=\"ScavengerHunt-HTML.png\" style=\"width: 40%;\"></img>\n",
    "\n",
    "<img src=\"ScavengerHunt-CSS.png\" style=\"width: 80%;\"></img>\n",
    "\n",
    "Then, on JS script code I found a hint for the third part:\n",
    "\n",
    "<img src=\"ScavengerHunt-JS.png\" style=\"width: 50%;\"></img>\n",
    "\n",
    "Searching on web I found the following: \"noindex is a rule set with a <meta> tag or HTTP response header that is used to prevent indexing of content by search engines that support the noindex rule, such as Google. When Googlebot crawls that page and gets the tag or header, Google will discard the page entirely from Google Search results, regardless of whether other sites link to it. For the noindex rule to work correctly, the page or resource must not be blocked by a **robots.txt** file\". I can request the robots.txt file from the server by adding robots.txt at the end of the original URL: \n",
    "\n",
    "- http://mercury.picoctf.net:39698/robots.txt\n",
    "\n",
    "So I get this answer page:\n",
    "\n",
    "<img src=\"ScavengerHunt-Robots.png\" style=\"width: 80%;\"></img>\n",
    "\n",
    "Now, this says that this is an Apache Server. On my research I discovered that there is a file called **.htaccess** that Apache uses to specify server configurations. Then, I can access this file the same way I did it with robots.txt:\n",
    "\n",
    "- http://mercury.picoctf.net:39698/.htaccess\n",
    "\n",
    "Obtaining:\n",
    "\n",
    "<img src=\"ScavengerHunt-HTACCESS.png\" style=\"width: 80%;\"></img>\n",
    "\n",
    "There is a well-known hidden file on MAC devices called **.DS_Store** that stores data about many things. If we search this resource on the URL we get:\n",
    "\n",
    "> http://mercury.picoctf.net:39698/.DS_Store\n",
    "\n",
    "<img src=\"ScavengerHunt-DStore.png\" style=\"width: 80%;\"></img>"
   ]
  },
  {
   "cell_type": "markdown",
   "metadata": {},
   "source": [
    "> Flag: th4ts_4_l0t_0f_pl4c3s_2_lO0k_fa044227c"
   ]
  },
  {
   "cell_type": "markdown",
   "metadata": {},
   "source": [
    "## Inspect HTML"
   ]
  },
  {
   "cell_type": "markdown",
   "metadata": {},
   "source": [
    "With *inspector* tool I was easily able to catch the flag in the HTML document of the webpage:\n",
    "\n",
    "<img src=\"InspectHTML.png\" style=\"width:80%;\"></img>"
   ]
  },
  {
   "cell_type": "markdown",
   "metadata": {},
   "source": [
    "Hence: \n",
    "\n",
    "> FLAG: 1n5p3t0r_0f_h7ml_fd5d57bd"
   ]
  },
  {
   "cell_type": "markdown",
   "metadata": {},
   "source": [
    "## Local Authority"
   ]
  },
  {
   "cell_type": "markdown",
   "metadata": {},
   "source": [
    "One more time, when using *inspector* tool, I discovered that after you enter a user and password, server uses a file called `secure.js` to check if the credentials are correct. Server sent this file to me as an answer after I entered the wrong user and password. And I saw this:\n",
    "\n",
    "<img src=\"LocalAuthority.png\" style=\"width:80%;\"></img>"
   ]
  },
  {
   "cell_type": "markdown",
   "metadata": {},
   "source": [
    "So, when entering this credetianls in the login form I got the Flag:\n",
    "\n",
    "> FLAG: j5_15_7r4n5p4r3n7_a8788e61"
   ]
  },
  {
   "cell_type": "markdown",
   "metadata": {},
   "source": [
    "## Login"
   ]
  },
  {
   "cell_type": "markdown",
   "metadata": {},
   "source": [
    "Examining the website files, I found one called `index.js`. Here the user and password are checked to verify that they match the correct values:\n",
    "\n",
    "<img src=\"Login.png\" style=\"width:80%;\"></img>"
   ]
  },
  {
   "cell_type": "markdown",
   "metadata": {},
   "source": [
    "The interesting thing here is that, after I entered the username and password, this function encode the values in base64 using `btoa` JS function. And then this encoded variables are compared with, obviusly other b64 encoded strings. Therefore, we can know the correct username and password by using the counterpart of btoa: `atob`, which decode b64 strings.\n",
    "\n",
    "```js\n",
    "atob(\"YWRtaW4\") // admin\n",
    "atob(\"cGljb0NURns1M3J2M3JfNTNydjNyXzUzcnYzcl81M3J2M3JfNTNydjNyfQ\") //\"picoCTF{53rv3r_53rv3r_53rv3r_53rv3r_53rv3r}\"\n",
    "```"
   ]
  },
  {
   "cell_type": "markdown",
   "metadata": {},
   "source": [
    "## Where are the robots"
   ]
  },
  {
   "cell_type": "markdown",
   "metadata": {},
   "source": [
    "**robots.txt** file is usually used so that Google does not track certain files, maybe to remain them hidden (as the hint suggests). So if I search this resource withing the original URL:\n",
    "\n",
    "> https://jupiter.challenges.picoctf.org/problem/36474/robots.txt\n",
    "\n",
    "I get:\n",
    "\n",
    "<img src=\"WhereAreTheRobots.png\" style=\"\"></img>"
   ]
  },
  {
   "cell_type": "markdown",
   "metadata": {},
   "source": [
    "Then, if I search this \"hidden\" resource: `477ce.html`, I get the flag:\n",
    "\n",
    "> https://jupiter.challenges.picoctf.org/problem/36474/477ce.html\n",
    "\n",
    "> FLAG: ca1cu1at1ng_Mach1n3s_477ce"
   ]
  },
  {
   "cell_type": "markdown",
   "metadata": {},
   "source": [
    "## Cookies\n",
    "\n",
    "The name of the problem suggests me that I have to search within the website cookies. This stuff is localized on Storage tab inside the inspector tool:\n",
    "\n",
    "<img src=\"Cookies.png\" style=\"width:80%;\"></img>"
   ]
  },
  {
   "cell_type": "markdown",
   "metadata": {},
   "source": [
    "Website put in the search box the placeholder \"snickerdoodle\". I tried that string and it worked, but there was no flag yet. Then I noticed that the value of the \"name\" cookie increased by one. Any other string resulted in -1. So I started to increase the value by one and refreshed the page. While increasing this value I was getting many valid cookies, but not the flag; until I reached the 18 value. Where I got the flag!\n",
    "\n",
    "> FLAG: 3v3ry1_l0v3s_c00k135_a1f5bdb7"
   ]
  },
  {
   "cell_type": "markdown",
   "metadata": {},
   "source": [
    "## Logon"
   ]
  },
  {
   "cell_type": "markdown",
   "metadata": {},
   "source": [
    "Problem tell us we have to login as Joe's. But his password is imposible to obtain. Instead of that, we have to try login as other user. Hint says that any other user has free access to factory website, without entering the password. Then I just typed a random user and I logged in. Nevertheless, as a default user I don't have access to the flag. But, when I was checking the cookies I saw something interesting:\n",
    "\n",
    "<img src=\"Logon.png\" style=\"width:80%;\"></img>"
   ]
  },
  {
   "cell_type": "markdown",
   "metadata": {},
   "source": [
    "We can impersonate admin privilegies just by changing this cookie value to True. Then, I refreshed the page and I got the FLAG:\n",
    "\n",
    "> FLAG: th3_c0nsp1r4cy_l1v3s_d1c24fef"
   ]
  },
  {
   "cell_type": "markdown",
   "metadata": {},
   "source": [
    "## Search Source"
   ]
  },
  {
   "cell_type": "markdown",
   "metadata": {},
   "source": [
    "Just by looking the files of the website with inspector tool, and digging a little bit in the HTML and CSS codes, I found the flag in `style.css` file:\n",
    "\n",
    "<img src=\"SearchSource.png\" style=\"width:70%;\"></img>"
   ]
  },
  {
   "cell_type": "markdown",
   "metadata": {},
   "source": [
    "> FLAG: 1nsp3ti0n_0f_w3bpag3s_ec95fa49"
   ]
  },
  {
   "cell_type": "markdown",
   "metadata": {},
   "source": [
    "## It is my birthday"
   ]
  },
  {
   "cell_type": "markdown",
   "metadata": {},
   "source": [
    "The problem begins by describing that there are two slightly different values that produce the same hash value when passed through the MD5 algorith. Our objective here is to find these two values, store them in two different PDF files and upload these files to the website. PDFs contents must produce the same hash value and be different at the same time.\n",
    "\n",
    "The first hint we have is that the website is a PHP site. Considering this information, I assumed that there has to be a reference to the `md5_file` function in the php code, because this function is used to get the MD5 hash value of a file. Also I thought that there must be a comparison between the two hash values obtained from the PDF files. Hence something like this:"
   ]
  },
  {
   "cell_type": "markdown",
   "metadata": {},
   "source": [
    "```php\n",
    "<?=\n",
    "\n",
    "$hash1 = md5_file($GET['file1']);\n",
    "$hash2 = md5_file($GET['file2']);\n",
    "\n",
    "if ($hash1 == $hash2){\n",
    "    echo \"Files have the same MD5 hash value\";\n",
    "}else{\n",
    "    echo \"Files don't have equal MD5 hash value\";\n",
    "}\n",
    "````"
   ]
  },
  {
   "cell_type": "markdown",
   "metadata": {},
   "source": [
    "At this point I was trying to find two different values that would produce a MD5 collision, i.e., the same MD5 hash value. But after some researching, I found an interesting vulnerability within PHP comparisons.\n",
    "\n",
    "The PHP programming language exhibits a behaviour called type juggling, when performing a \"loose (==)\" comparison. This comparison has a set of operand conversion rules where it first tries to convert operands to a common and comparable type.\n",
    "\n",
    "When comparing a string to a number, it will try to convert the string to a number and then perform the comparison. Even if both operands look like numbers, even if they are strings, it will convert them both to a number and perform the numeric comparison. Here are some examples of comparisons where the result will be true:\n",
    "\n",
    "- TRUE : \"0000\" == int(0)\n",
    "- TRUE : \"0e12\" == int(0)\n",
    "- TRUE : \"0e12\" == \"0e98\"\n",
    "- TRUE : \"0xF\" == \"15\"\n",
    "- TRUE : \"0e12\" <= \"1\"\n",
    "\n",
    "The above vulnerability has a specific implication for hashes (MD5 and SHA1) which in PHP are encoded in base 16. For example, coming in the form \"0e8578698...\", and since all the following characters after the \"0e\" are numbers, the string is interpreted as zero raised to the power of some value. Therefore, it will always have a value of zero.\n",
    "\n",
    "Magic hashes are those that conform to the structure \"0+e[0-9]+\". structure, such as:\n",
    "- MD5(240610708) = 0e462097431906509019562988736854\n",
    "- MD5(QNKCDZO) = 0e830400451993494058024219903391\n",
    "\n",
    "[Here](https://github.com/spaze/hashes/blob/master/md5.md) we have a list of magic hashes for MD5. We can pick these two values: 'QNKCDZO' and '240610708'. Despite the fact that they are totally different (the same with their MD5 hash values) on the following php code we see that in the if comparison they are treated as equals:\n",
    "\n",
    "```php\n",
    "\n",
    "<?=\n",
    "\n",
    "$val1 = md5('240610708');\n",
    "$val2 = md5('QNKCDZO');\n",
    "\n",
    "var_dump($val1);\n",
    "var_dump($val2);\n",
    "\n",
    "if($val1 == $val2){\n",
    "    echo 'Hashes are identical';\n",
    "}else{\n",
    "    echo 'Hashes are not identical';\n",
    "}\n",
    "\n",
    "# OUTPUT:\n",
    "# string(32) \"0e462097431906509019562988736854\"\n",
    "# string(32) \"0e830400451993494058024219903391\"\n",
    "# Hashes are identical\n",
    "```"
   ]
  },
  {
   "cell_type": "markdown",
   "metadata": {},
   "source": [
    "Finally, I stored these two values in PDF files and I uploaded them to the website, obtaining this:\n",
    "\n",
    "<img src=\"Birthday.png\" style=\"width:80%;\"></img>"
   ]
  },
  {
   "cell_type": "markdown",
   "metadata": {},
   "source": [
    "> FLAG: c0ngr4ts_u_r_1nv1t3d_aad886b9"
   ]
  },
  {
   "cell_type": "markdown",
   "metadata": {},
   "source": [
    "## Findme"
   ]
  },
  {
   "cell_type": "markdown",
   "metadata": {},
   "source": [
    "Hint on this excersise says that we have to focus on redirections. If we login using the given credentials, and we check in the inspector tool network's requests, we get this info:\n",
    "\n",
    "<img src=\"FindMe.png\" style=\"width:80%;\"></img>"
   ]
  },
  {
   "cell_type": "markdown",
   "metadata": {},
   "source": [
    "This line: `id=bF90aGVfd2F5X2JlNzE2ZDhlfQ` indicates a redirection to another page. Curiously, if we decode this string from b64 we get: `l_the_way_be716d8e`. This is just the last part of the FLAG. During my research I realized that I have to intercept the redirection right after I send the credentials, with a tool called BurpSuite. With it I was able to intercept the redirection and I got this:\n",
    "\n",
    "<img src=\"FindMe-Intercept.png\" style=\"width:80%;\"></img>"
   ]
  },
  {
   "cell_type": "markdown",
   "metadata": {},
   "source": [
    "That string decoded from b64 is: `picoCTF{proxies_al`. Hence:\n",
    "\n",
    "> FLAG: proxies_all_the_way_be716d8e"
   ]
  }
 ],
 "metadata": {
  "language_info": {
   "name": "python"
  }
 },
 "nbformat": 4,
 "nbformat_minor": 2
}
