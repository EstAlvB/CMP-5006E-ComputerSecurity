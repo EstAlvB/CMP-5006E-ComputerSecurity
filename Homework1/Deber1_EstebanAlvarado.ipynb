{
 "cells": [
  {
   "cell_type": "code",
   "execution_count": 1,
   "metadata": {},
   "outputs": [],
   "source": [
    "import string\n",
    "UPPER_ALPHABET = string.ascii_uppercase\n",
    "LOWER_ALPHABET = string.ascii_lowercase"
   ]
  },
  {
   "cell_type": "markdown",
   "metadata": {},
   "source": [
    "### ROT13\n",
    "ROT13 («rotar 13 posiciones») es un sencillo cifrado César utilizado para ocultar un texto sustituyendo cada letra por la letra que está trece posiciones por delante en el alfabeto. A se convierte en N, B se convierte en O y así hasta la M, que se convierte en Z. Luego la secuencia se invierte: N se convierte en A, O se convierte en B y así hasta la Z, que se convierte en M."
   ]
  },
  {
   "cell_type": "markdown",
   "metadata": {},
   "source": [
    "![Alt text](rot13.png)"
   ]
  },
  {
   "cell_type": "code",
   "execution_count": 2,
   "metadata": {
    "ExecuteTime": {
     "end_time": "2023-09-15T22:55:57.688360Z",
     "start_time": "2023-09-15T22:55:57.680839Z"
    }
   },
   "outputs": [
    {
     "data": {
      "text/plain": [
       "\"picoCTF{next_time_I'll_try_2_rounds_of_rot13_ulYvpVag}\""
      ]
     },
     "execution_count": 2,
     "metadata": {},
     "output_type": "execute_result"
    }
   ],
   "source": [
    "def rot13(s: str):\n",
    "    result = \"\"\n",
    "    for letter in s:\n",
    "        if letter.lower() in LOWER_ALPHABET:\n",
    "            pos = (abs(ord(LOWER_ALPHABET[0]) - ord(letter.lower())) + 13) % 26\n",
    "            result += LOWER_ALPHABET[pos].upper() if letter.isupper() else LOWER_ALPHABET[pos]\n",
    "        else:\n",
    "            result += letter\n",
    "    return result\n",
    "\n",
    "rot13(\"cvpbPGS{arkg_gvzr_V'yy_gel_2_ebhaqf_bs_ebg13_hyLicInt}\")"
   ]
  },
  {
   "cell_type": "markdown",
   "metadata": {},
   "source": [
    "### Caesar\n",
    "\n",
    "El cifrado César es una de las técnicas de cifrado más simples y más usadas. Es un tipo de cifrado por sustitución en el que una letra en el texto original es reemplazada por otra letra que se encuentra un número fijo de posiciones más adelante en el alfabeto. Por ejemplo, con un desplazamiento de 3, la A sería sustituida por la D (situada 3 lugares a la derecha de la A), la B sería reemplazada por la E, etc.\n",
    "\n",
    "-> **Decrypt**: picoCTF{dspttjohuifsvcjdpoabrkttds}"
   ]
  },
  {
   "cell_type": "code",
   "execution_count": 3,
   "metadata": {
    "ExecuteTime": {
     "end_time": "2023-09-15T22:56:20.340204Z",
     "start_time": "2023-09-15T22:56:03.581521Z"
    }
   },
   "outputs": [
    {
     "name": "stdout",
     "output_type": "stream",
     "text": [
      "Message Decrypted: [crossingtherubiconzaqjsscr], with 1 shift\n",
      "Message Decrypted: [bqnrrhmfsgdqtahbnmyzpirrbq], with 2 shift\n",
      "Message Decrypted: [apmqqglerfcpszgamlxyohqqap], with 3 shift\n"
     ]
    }
   ],
   "source": [
    "def decrypt_caesar(s: str, i: int = 1):\n",
    "    \"\"\"decrypt a string using the Caesar cipher\"\"\"\n",
    "    if str(input(\"You want to stop? [y/n]: \")) == 'y':\n",
    "        return\n",
    "    else:\n",
    "        result = \"\"\n",
    "        for letter in s:\n",
    "            pos = (abs(ord(LOWER_ALPHABET[0]) - ord(letter)) - i) % 26\n",
    "            result += LOWER_ALPHABET[pos]\n",
    "        print(f\"Message Decrypted: [{result}], with {i} shift\")\n",
    "        decrypt_caesar(s, i+1)\n",
    "\n",
    "decrypt_caesar(\"dspttjohuifsvcjdpoabrkttds\")"
   ]
  },
  {
   "cell_type": "markdown",
   "metadata": {
    "collapsed": false
   },
   "source": [
    "### Easy1\n",
    "\n",
    "A diferencia del cifrado César, que es un cifrado de sustitución monoalfabética, el cifrado Vigenère utiliza múltiples alfabetos (polialfabético) para cifrar el texto, lo que lo hace más resistente a los ataques de frecuencia. El cifrado Vigenère utiliza una palabra o frase como clave. Se asigna un número a cada letra de la clave y al mensaje original, y para ello se puede usar una tabla de correspondencia, donde A=0, B=1, C=2, ..., Z=25. Para descifrar el mensaje, el receptor debe conocer la clave y realizar una resta modular para obtener el mensaje original. Dado que tenemos una palabra como clave y una tabla, podemos deducir que este caso corresponde al cifrado Vigènere.\n",
    "\n",
    "> Decrypt: `UFJKXQZQUNB` using this key: `SOLVECRYPTO` "
   ]
  },
  {
   "cell_type": "code",
   "execution_count": 4,
   "metadata": {
    "ExecuteTime": {
     "end_time": "2023-09-15T23:17:12.158950Z",
     "start_time": "2023-09-15T23:17:12.153964Z"
    },
    "collapsed": false
   },
   "outputs": [
    {
     "name": "stdout",
     "output_type": "stream",
     "text": [
      "CRYPTOISFUN\n"
     ]
    }
   ],
   "source": [
    "KEY, S = \"SOLVECRYPTO\", \"UFJKXQZQUNB\"\n",
    "alphabet_dict = {chr(ord(UPPER_ALPHABET[0]) + i): i for i in range(26)}\n",
    "\n",
    "def decrypt_vigenere(key: str, s: str):\n",
    "    \"\"\"Decrypt a string using Vigenere cypher\"\"\"\n",
    "    result = \"\"\n",
    "    for i, letter in enumerate(s):\n",
    "        x = alphabet_dict.get(letter) - alphabet_dict.get(key[i])\n",
    "        if x >= 0:\n",
    "            result += UPPER_ALPHABET[x % 26]\n",
    "        else:\n",
    "            result += UPPER_ALPHABET[(x + 26) % 26]\n",
    "    return result\n",
    "\n",
    "print(decrypt_vigenere(KEY, S))"
   ]
  },
  {
   "cell_type": "markdown",
   "metadata": {
    "collapsed": false
   },
   "source": [
    "### Spelling-quiz\n",
    "\n",
    "Este parece un caso de cifrado César, pero que en lugar de descifrar una secuencia de letras, descifraremos una secuencia de números. Para descifrar un cifrado césar debemos hacer la operación inversa a $(x+k)\\%26$, es decir $(x-k)\\%26$; donde $k$ es la llave que indica el desplazamiento, y por lo tanto lo que queremos hallar. Para encontrar $k$ haremos un ataque de fuerza bruta hasta encontrar el valor de desplazamiento correcto.\n",
    "\n",
    "![!random numbers](the_numbers.png)"
   ]
  },
  {
   "cell_type": "code",
   "execution_count": 5,
   "metadata": {
    "collapsed": false
   },
   "outputs": [
    {
     "name": "stdout",
     "output_type": "stream",
     "text": [
      "Decrypted result: QJDPDUGUIFOVNCFSTNBTPO with 0 shift\n",
      "Decrypted result: PICOCTFTHENUMBERSMASON with 1 shift\n",
      "Decrypted result: OHBNBSESGDMTLADQRLZRNM with 2 shift\n"
     ]
    }
   ],
   "source": [
    "sequence = [16, 9, 3, 15, 3, 20, 6, 20, 8, 5, 14, 21, 13, 2, 5, 18, 19, 13, 1, 19, 15, 14]\n",
    "number_dict = {i: chr(ord(LOWER_ALPHABET[0]) + i) for i in range(26)}\n",
    "\n",
    "def decrypt_numbers(seq, i=0):\n",
    "    if str(input(\"You want to stop? [y/n]: \")) == 'y':\n",
    "        return\n",
    "    else:\n",
    "        result = \"\"\n",
    "        for number in seq:\n",
    "            result += number_dict[(number-i) % 26].upper()\n",
    "        print(f\"Decrypted result: {result} with {i} shift\")\n",
    "        decrypt_numbers(seq, i+1)\n",
    "\n",
    "decrypt_numbers(sequence, 0)"
   ]
  },
  {
   "cell_type": "markdown",
   "metadata": {},
   "source": [
    "### 13\n",
    "\n",
    "Este ejercicio es igual a ROT13. Así que reutilizaremos la función ya creada.\n",
    "\n",
    "> Decrypt `cvpbPGS{abg_gbb_onq_bs_n_ceboyrz}`"
   ]
  },
  {
   "cell_type": "code",
   "execution_count": 6,
   "metadata": {},
   "outputs": [
    {
     "data": {
      "text/plain": [
       "'picoCTF{not_too_bad_of_a_problem}'"
      ]
     },
     "execution_count": 6,
     "metadata": {},
     "output_type": "execute_result"
    }
   ],
   "source": [
    "rot13(\"cvpbPGS{abg_gbb_onq_bs_n_ceboyrz}\")"
   ]
  },
  {
   "cell_type": "markdown",
   "metadata": {},
   "source": [
    "### Easy Peasy\n",
    "\n",
    "Este ejercicio hace referencia al cifrado OTP. El cifrado OTP (One-Time Pad) es un sistema de cifrado extremadamente seguro que utiliza una clave secreta aleatoria de números o letras que debe ser tan larga como el mensaje que se va a cifrar y que nunca debe reutilizarse. Para cifrar un mensaje, el emisor realiza una operación XOR (o exclusiva) entre cada letra (o carácter) del mensaje original y la correspondiente letra (o carácter) en la clave OTP. \n",
    "\n",
    "Ahora bien, existen algunas cosas en este ejercicio que nos pueden ayudar a romper el cifrado. La idea en el algoritmo de otp.py es que, cada vez que se envía un mensaje para encriptar, se actualiza la variable posición `key_position` para usar distintas porciones de la clave en la encriptación. En algún punto `key position` estará en una posición cerca de la longitud de la clave, que es 50 000. Si se envía un mensaje que sobrepasa o iguala la longitud, se realiza esta operación $stop = stop \\% KEYLEN$. `stop` va junto a otra variable `start`, las cuales se encargan de indicar desde y hasta qué parte de la clave se va a usar para encriptar. `key_position` siempre se actualiza al valor de `stop` para continuar encriptando con la siguiente porción de clave. Por tanto, retomando la operación anterior, si `stop` sobrepasa o es igual al valor de 50 000 este se recalculará para que entre dentro de la longitud de la clave gracias al operador $(\\%)$. \n",
    "\n",
    "Nuestro objetivo es usar la porción de clave con la que se encriptó el primer mensaje para reutilizar dicha porción y desencriptar el primer mensaje. Pero, al enviar el primer mensaje, `key_position` se actualiza a una posición $x$, que es determinada por la longitud del mensaje (lo que quiere decir que $x$ es la longitud del mensaje original). Así que, tenemos que hacer que `key_position` regrese a la posición 0; y esto lo podemos lograr si `key_position` = 50 000, ya que $50000 \\% 50000 = 0$. Y para lograr que `key_position` sea igual a 50 000 debemos enviar un mensaje de longitud $50000-x$. \n",
    "\n",
    "> Cada letra del mensaje original se encripta en un valor hexadecimal de dos dígitos. Así que si obtenemos un FLAG encriptado de 64 caracteres, el mensaje original habrá sido de 32 caracteres ($x=32$)"
   ]
  },
  {
   "cell_type": "code",
   "execution_count": 114,
   "metadata": {},
   "outputs": [
    {
     "name": "stdout",
     "output_type": "stream",
     "text": [
      "[x] Opening connection to mercury.picoctf.net on port 36981\n",
      "[x] Opening connection to mercury.picoctf.net on port 36981: Trying 18.189.209.142\n",
      "[+] Opening connection to mercury.picoctf.net on port 36981: Done\n"
     ]
    },
    {
     "name": "stderr",
     "output_type": "stream",
     "text": [
      "/var/folders/bf/74p6fnsx6v582xb04v67qg4r0000gn/T/ipykernel_2676/291742730.py:4: BytesWarning: Text is not bytes; assuming ASCII, no guarantees. See https://docs.pwntools.com/#bytes\n",
      "  print(conn.recvuntil('What data would you like to encrypt?'))\n"
     ]
    },
    {
     "name": "stdout",
     "output_type": "stream",
     "text": [
      "b'******************Welcome to our OTP implementation!******************\\nThis is the encrypted flag!\\n5541103a246e415e036c4c5f0e3d415a513e4a560050644859536b4f57003d4c\\n\\nWhat data would you like to encrypt?'\n",
      "[+] Sending 5000 bytes...\n"
     ]
    },
    {
     "name": "stderr",
     "output_type": "stream",
     "text": [
      "/var/folders/bf/74p6fnsx6v582xb04v67qg4r0000gn/T/ipykernel_2676/291742730.py:9: BytesWarning: Text is not bytes; assuming ASCII, no guarantees. See https://docs.pwntools.com/#bytes\n",
      "  conn.send('a' * 5000 + '\\r\\n')\n",
      "/var/folders/bf/74p6fnsx6v582xb04v67qg4r0000gn/T/ipykernel_2676/291742730.py:11: BytesWarning: Text is not bytes; assuming ASCII, no guarantees. See https://docs.pwntools.com/#bytes\n",
      "  conn.recvuntil('What data would you like to encrypt?')\n"
     ]
    },
    {
     "name": "stdout",
     "output_type": "stream",
     "text": [
      "[+] Sending 5000 bytes...\n",
      "[+] Sending 5000 bytes...\n",
      "[+] Sending 5000 bytes...\n",
      "[+] Sending 5000 bytes...\n",
      "[+] Sending 5000 bytes...\n",
      "[+] Sending 5000 bytes...\n",
      "[+] Sending 5000 bytes...\n",
      "[+] Sending 5000 bytes...\n",
      "[+] Sending 4968 bytes...\n"
     ]
    },
    {
     "name": "stderr",
     "output_type": "stream",
     "text": [
      "/var/folders/bf/74p6fnsx6v582xb04v67qg4r0000gn/T/ipykernel_2676/291742730.py:14: BytesWarning: Text is not bytes; assuming ASCII, no guarantees. See https://docs.pwntools.com/#bytes\n",
      "  conn.send('a' * remaining_bytes + '\\r\\n')\n",
      "/var/folders/bf/74p6fnsx6v582xb04v67qg4r0000gn/T/ipykernel_2676/291742730.py:15: BytesWarning: Text is not bytes; assuming ASCII, no guarantees. See https://docs.pwntools.com/#bytes\n",
      "  print(conn.recvuntil('What data would you like to encrypt?'))\n"
     ]
    },
    {
     "name": "stdout",
     "output_type": "stream",
     "text": [
      "b' Here ya go!\\n595047303d1951034b3d19000437170c233d1902593d1951553d1903502c2e3d1904584f3d1900543d1904573d190253073d1900573d190505253d190259403d1959593d1904593d1950593d1903583d1951563d1900532e3d19070539123d1905044d3d19055335513d195056223d190758193d1904003d1950055b3d195005415d2b21263d1903593d190251093d1900053d1903023d3d3d190707332c3d1958523d190754303d1905023c493d1959025b3d190303333d195153033d1903563d1903023e3e08023d1905523d190056243d1900523d195956073d1900503d1907073d1903073d1904503d1950593d1904563d190302033d1903033d1951573d1950503d1950003d195903315c0e3d1907023d1902562d3d1904053d1907043d1903583d195859233c3d1902533d1958053d1904564c3d1903023d1904513d1950503d1950033d1956073d1950043d1905513d19505708553d1950073d1958523d1907553d1958003d1900503d19515735233d1950573d1958573d1907574d3d1903555c3d1902503d133f533d1951021a3d1900053d190758243d1950553d1905503d190454353d1950032e3d1951573d1900563d1950043d1951523d1905543d1902023d1959553d1905580d3d1958073d195953183d195957213d1950023d1900543d1905513d195959323d1900513d1900563d1958593d195103093d1902515e3d1903533d1951543d1950523d1903573d1904503d1900044d3d1951533c3d1905513d1907503d1907033d190700333d1959563d1903543d190502593d1902503d1907073d1903553d1951573d195053515d583d190556353d190551183d195959263b3d463d1902043d1959043d195957373d190503453d1902503d190704013d1900023d1959033d1907593d1951533d1904553d1959053d19075508391a3d1903593d1903563d19035250093d1950573d1900523d1950553d1904053d1959573d1959513d1958573d1958073d1905553d1903553d1959563d1907533d1900043d1905523d1959023d1907533d1900023d1959073d1903033d1907043d1902553d1951543d1905573d1900543d1902512a3d1958073d195859404e3b3d1902573d133d1900593d190354184f433d1905573d190507315b3d1951533d1959553d1959543d1902543b0f3d1905563d190200325d3d1951563d195858123d1900593d1900023d1905593d1958541d3d1904593d195051403d1904553d19025652233d1958520c3d1904543d1907553d1904594e3d1958023d1951543d195855193d1959563d1902583d1907033d1907513d1903593e3d190758093d1907003d19595245123d1950563d1959585725163d1903023d190503433d19595954214836003d1958563d1905553d195107143d1903053d1904023d190005433d190056023d463f3d195000423d190552290319343d195803103d1902053d1902023d190052033d1907503d1905053d1907563d1907073d1900593d1903523d1951023d1951043d1900573d1903583d1907573d190257003d190459403d195856404e54574b5f3d1907033d1907023d1907073d190403035f44043948483c413d190505123d1902503d1907553d1950053c083d1902513d1951025a3d1950033d1904513d1902003d46133d1958563d1903585d483d19055204134e503d1907073d1951593d1904053d1902553d1905553d190507133d1951523d195053273d155a3d1902513c3d1902553d195950250c3d1958051a3d1903023d19500014541c3d1903553d1900553d1959573d1904023d1959593d1904553d1903513d1900533d1950563d1904513d1907023d1959503d1959563d1959513d1958515b3d1903543d1903583d1907043d1905543d19075259033d1903573d19505037143d1958553d1902533d1958053d1907020c3d1950003d1951073d195951433d1900505a2b3d1951513d1903510a3d190700213d0f313d1905513d1902503d1905593d1907053d1959040c3d190052312f343d1958032b3d1905533d1959523d190003553d1904525f30063d1902042f523d1951043d1907533d1903573d1951503d15033d1959003d190052573d3d3d1902523d1907023d195950503c3d19025234002c4b3d1905543d1904043d1905023d1902523d1905503d1900553d1904033d1903583d1958513d1905003d1950513d1902593d1958003d1903003d1905023d190754152e31395b3d1907073d1900503d1903033b5c5d3d19050722372a3d19505925041a3d19020757213e22473d190504213d1959513d3d3d190300033d1900553420533d195804573d1951023d1958043d195107101a3d1951023d1959523d1950533d190359563d1907523a443d1904583d190204123d0f263d1900593d1958583d190056473d19075325063d1951553d195053133d190207203d1950503d1900003d3d3d1950053d1905073d1904023d19040327013d463d1950573d1958522b5d4b1f3d1902043d1903053d1950023d1951043d1950023d3d0d0f253d1950033d1905023d195957193d1907503d1951073d1951523d1959000d3d1900513d190502273d1950514f5f5a3d195156333d1902563d190054573d190402563b253d1951033d0f273d1903003d1902583d1950543d1907543d190705393d1904593242063d1905033d190451123d1902573d1959043d1905583d1903023d1958543d1902533d190004043d1904073d190303173d1903563d1900003d1904563d190353383d1900053d1959523d1904504a374f3d1903533d195807593d195155160c3d1950512f3d1958573d1900573d1902503d1904073d1959503d1951023d190352503d1950023d1959583d1900551a3d1902543d1951501d583d190054023d1959033d1904553c3d1959573d190251073d19025442094d3d1905073d1903513d1903573d195858243d1959023d1902071a2c183d1959525c3d1900053d195907223d1950503d190254093d1903033d1900533d1904543d1959553d1959593d195858473d190400233d190359023d1902503d195056403d1950573d1905503d1907533d195902163d153d1903021a3d190007423d190553073d1902043d1907543d19035539363d1907583d1905543d1958513d1902583d1900023d1905533d1904562a0c1b3d1904553d1905003d190205313d195956433d190050203d1902513d1951513d1959523d1902513d1900053d19035607283d1907520b0b3d1902583d1903503d1907593d1902503d1950073d190756453d1902583d190757213d0f3d190705083d1905053d1950593d19595435584a1304213d1903033d1904003d1950510c3d15391d3d1902513d1951540b3d1900563d1951563d19045423093d1950043d1950023d1903030a3d1905583d190058323d1902583d195850263d1907023d190751203d1950593d1902543d153d1959503d1902553d190552163d1902043d1907532a323d1900573d1959593d1958511b263d1959553d1950073d195157133d1903003d1958553d190203303d1905503d1950073d190307133d1902533d1959573d1904003d190403263d1905553d1951033d1907563d1958555f3d1903503d1958003d1902543d1951524e3d1900043d190404393d1907533d1959563d1958543d1904021c3d1959573d1950543d1902573d1904515f3d190003383d1902523d1907500f273d1959593d19000310103d1902513d1958024331084d353d1959523b3d1905580e3d190753033d1958043d1959573d1951043d1950003d1902533d0f3d1902043d1904075a5e30263d1956073d1905573d190259173d19580348183d190504133d1958563d190555423d195057133d1951075a3d1902553d1950503d1958523d1907023d1958523d1900583d1951543d1905043d195954492f3d1951023d1904592c3d1950543d1904023d190300383d1907561a1b15563d1903583d1950553d1959043d1904580f243d1959573d1950023d1950523d1950053d19595741203d195102513d190454573d1950523d1958043d1950503d190207573d190500163d1907543d1903535d3d1907543d1900513d190456263d1900513d1903023d1903543d1959523d190351523d1904023d1900053d1904523d1951073d1950593d195851515040593d195058563d1907584c3d1958583d195803413d1958075a3d1907593d1900563d190254333d1905593d195804485a3d190454404b133d1907523d1900553d1907583d190702173d1950043d1900003d1905533d1900503d195950033d1950583d1951033d1904000b3d195956313d153d1951510a3d1951523d190002233d1959563d1959505b3d153d1959583d19055400323d1951043d190402453d1958003d1904043d1904563d1902043d1904583d1950583d1959573d190759493d1904503d1900513d1958503d195054052b053d190552203d1900533e3d195159132e3d1900073d1959073d1959553d1902565a3d1950053d190751313d1959593d190451113d1907073d1959073d1958043d1950033d1950571d503d1950050b2239393d1904073d1950023d1958023d1902005d3d1902023d1958053d19585305053d1902023d1907553d1905533d1907553d195955413f3d1907503f3d1903503d1958573d1903533d190503523d1904513d190254163d195800143d1958023d1900033d1900053d1951503d1959032f3d1903593d1950593d190452403d1950043d1903073d190404173d190050563d1951023d19580401493d1902533d19585137203d1900003d1903543d190302554c3d1903003d1900583d190056133d195952362c5c3d19050302193d1905591d3d190452213d1905033d195153173a3d195054423d190700533d190057553d1958033d19020003003d19025215273d1900073d1950003d1904003d190458403d1902035852404d3d1907533d1903514b3d1958543d1900593d1904043d1951523d1959575f3d1958073d1903543d1902543d1902573d190750353d1904053d1907511f3d1903593d1903583d1959503d1959523d1900513d1904553d1900520f223d1902073d1903503d1958553d1958523d1903033d1950583d1905593d1905003d1903023f3d195059543d1904553d195058243d1904072e3d190754233d1956073d1904033d190454553d1904053d1958503d1959513d19035128453d1902583d1904563d195053263d1902073d3d093d1904563d190405043d1907053d1904573d1958003d1902003d190753313d1950033d1905533d1907055b3d1905003d1900043d1903593d1959573d1902053d1900523b3d1951032e3d190757492d3d1959033d1959593d1950073d1900583d190552243d190757133d1907573d1903043d1950073d1951023d1959023d1950073d1903053d1958043d1905533d1950023d1903583d195005453d1950533d1905563d1950533d1959043d1958513d1951523d1905503d133d1902523d1959583d19005843323d1904033d1959503d1904033d1902032a3d1903033d1903513d1905593d1950523d1958033d1902552a3d19595718053d1903563d190702423d19055923103d1905583d1950553d1958573d1900533d190058183d1904573d1951533d1904573d1902563d1904043d1904033d1902023d1951552e3d1959573d1904023d1958073d1903553d1902043d1903553d1958503d1905033d1950033d1904023d1904043d1950023d1900553d190203563d1958512f173d1950543d1903521c3d195152213d1904533d1958551b3d1956073d1904003d1902071b3d190404543d190758435909033d1904522f3d1951513d1907003d1951533d1950593d190700323d19005619323d1903583d1902025b162b3d1904544e3d1900553d1951543d1900583d195607043d190402543d1959030e043d1951023d1904503d19035835093d1959003d190051323d195857173d190456133d1959053d1958532e3d1902523d1907033d190755173d1900523d1959533d1959593d1904513d152d49253d1958553d1951562a5a3d1905575652313d1950513d190553443d1902553d1950033d1900513d1905563d1951043d190253273d1905023d1905513d1951503d0f3d1900582a3d1959503d1958583d1958552f3d1904563d1951034e3d1959533c3d1951503d1958553d1951533d1900523d1905053d190404583d190459503d1904593d1903593d1907033d1950051a323d1950033d1903503d1950513d1959573d1958573c3d1904023d13133d1950513d190550352a3d1903583d1905003d1959043d1902513d1959043d1951023d190756541c3d1900543d195800363d1903023d1902003d1905003d13550f3d1907513d1958555410103d1958043d195005443d1902543d1904533d1904571c3d1951573d1903053d190754563d1904572c3d19585053333d190403145a3d1903573d1958513d1905070f3d1902533d1959033d1950513d1951552e3d195050103d195955123d1907003d1905045f3d1950563d1904543d1900525f3d190753062b3d1905043d1959533d1959043d1903520b033d1904553d1900593d1902075f3d1950543d1905023d1902553d1902503d1905533d1900503b2a3d1904503d1959552f3d1907503d1905560c3d1903053d1905043d1958053d195802303d19020318083d1958543d195155033d1902073d195004163d0f3d1904053d19590402493d153d1905513d1905033d1959543a3d190702533d1959543d190207083d195959153d1900513d1904555a583d1903553d1958573d1904543d1900023d1959523d1951073d1959513d153d1905044a3d1903533d1902023d1904023d1905513d1959545b3d1950583d19000308534259313d1958593d1900553d1905583d195959503d1958\\n\\nWhat data would you like to encrypt?'\n",
      "[+] Key offset is at 0. Sending aaaaaaaaaa...\n"
     ]
    },
    {
     "name": "stderr",
     "output_type": "stream",
     "text": [
      "/var/folders/bf/74p6fnsx6v582xb04v67qg4r0000gn/T/ipykernel_2676/291742730.py:18: BytesWarning: Text is not bytes; assuming ASCII, no guarantees. See https://docs.pwntools.com/#bytes\n",
      "  conn.send('a' * 32 + '\\r\\n')\n",
      "/var/folders/bf/74p6fnsx6v582xb04v67qg4r0000gn/T/ipykernel_2676/291742730.py:19: BytesWarning: Text is not bytes; assuming ASCII, no guarantees. See https://docs.pwntools.com/#bytes\n",
      "  print(conn.recvuntil('What data would you like to encrypt?'))\n"
     ]
    },
    {
     "name": "stdout",
     "output_type": "stream",
     "text": [
      "b' Here ya go!\\n0346483f243d1959563d1907563d1903543d190551023d1959073d1902573d19\\n\\nWhat data would you like to encrypt?'\n",
      "[*] Closed connection to mercury.picoctf.net port 36981\n",
      "Done\n"
     ]
    }
   ],
   "source": [
    "from pwn import remote\n",
    "\n",
    "conn = remote('mercury.picoctf.net', 36981)\n",
    "print(conn.recvuntil('What data would you like to encrypt?'))\n",
    "\n",
    "remaining_bytes = 50000 - 32    # flag is 32 bytes\n",
    "while remaining_bytes >= 5000:\n",
    "    print('[+] Sending 5000 bytes...')\n",
    "    conn.send('a' * 5000 + '\\r\\n')\n",
    "    remaining_bytes -= 5000\n",
    "    conn.recvuntil('What data would you like to encrypt?')\n",
    "\n",
    "print(f'[+] Sending {remaining_bytes} bytes...')\n",
    "conn.send('a' * remaining_bytes + '\\r\\n')\n",
    "print(conn.recvuntil('What data would you like to encrypt?'))\n",
    "\n",
    "print('[+] Key offset is at 0. Sending aaaaaaaaaa...')\n",
    "conn.send('a' * 32 + '\\r\\n')\n",
    "print(conn.recvuntil('What data would you like to encrypt?'))\n",
    "\n",
    "conn.close()\n",
    "print(\"Done\")"
   ]
  },
  {
   "cell_type": "markdown",
   "metadata": {},
   "source": [
    "Una vez regresamos a la posición 0, enviaremos un mensaje de igual longitud al primer mensaje para que se utilice exactamente la misma porción de clave para encriptar. El mensaje que enviaremos es arbitrario, para este caso el mensaje será muchas \"a\".\n",
    "\n",
    "Entonces hemos encriptado dos mensajes `m1` **(FLAG)** y `m2` (aaa...), y los ciframos utilizando la misma clave `c`, obteniendo dos mensajes cifrados `r1` y `r2`:\n",
    "\n",
    "- `R1: 5541103a246e415e036c4c5f0e3d415a513e4a560050644859536b4f57003d4c`\n",
    "- `R2: 0346483f243d1959563d1907563d1903543d190551023d1959073d1902573d19`\n",
    "\n",
    "Ahora, si deseamos recuperar `m1` a partir de `r1`, `r2`, y `m2`, podemos realizar lo siguiente:\n",
    "\n",
    "1. Deshacemos la operación de cifrado para obtener `c`:\n",
    "   - `c = r1 XOR m1` (deshaciendo la operación de cifrado en `r1`)\n",
    "   - `c = r2 XOR m2` (deshaciendo la operación de cifrado en `r2`)\n",
    "\n",
    "2. Igualamos las dos expresiones de `c` porque ambas representan la misma clave `c`:\n",
    "   - `r1 XOR m1 = r2 XOR m2`\n",
    "\n",
    "3. Ahora, si deseamos recuperar `m1`, podemos aislarlo en el lado izquierdo de la ecuación:\n",
    "   - `m1 = r1 XOR r2 XOR m2`\n",
    "\n",
    "En resumen, la ecuación `m1 = (r1 XOR r2) XOR m2` muestra cómo recuperar el mensaje original `m1` a partir de los mensajes cifrados `r1`, `r2`, y el mensaje conocido `m2` utilizando operaciones XOR y deshaciendo la operación de cifrado. Esto funciona debido a las propiedades del XOR y la relación entre los mensajes originales, los mensajes cifrados y la clave de cifrado."
   ]
  },
  {
   "cell_type": "code",
   "execution_count": 9,
   "metadata": {},
   "outputs": [
    {
     "name": "stdout",
     "output_type": "stream",
     "text": [
      "0x3766396461323966343034393961393864623232303338306135373734366134\n"
     ]
    }
   ],
   "source": [
    "r1 = 0x5541103a246e415e036c4c5f0e3d415a513e4a560050644859536b4f57003d4c\n",
    "r2 = 0x0346483f243d1959563d1907563d1903543d190551023d1959073d1902573d19\n",
    "m2 = 0x6161616161616161616161616161616161616161616161616161616161616161 # (aaaaaa ....)\n",
    "\n",
    "m1_hex = (r1 ^ r2) ^ m2\n",
    "print(hex(m1_hex))"
   ]
  },
  {
   "cell_type": "code",
   "execution_count": 10,
   "metadata": {},
   "outputs": [
    {
     "name": "stdout",
     "output_type": "stream",
     "text": [
      "m1 como string: 7f9da29f40499a98db220380a57746a4\n"
     ]
    }
   ],
   "source": [
    "m1 = \"3766396461323966343034393961393864623232303338306135373734366134\"\n",
    "m1_bytes = bytes.fromhex(m1)\n",
    "m1_str = m1_bytes.decode(\"utf-8\")\n",
    "print(\"m1 como string:\", m1_str)"
   ]
  },
  {
   "cell_type": "markdown",
   "metadata": {},
   "source": [
    "### Spelling Quiz\n",
    "\n",
    "El tipo de cifrado empleado en este ejercicio es un cifrado por sustitución monoalfabético, donde cada letra del alfabeto original se mapea a una única letra en el alfabeto cifrado. En este caso, el mapeo se realiza hacia un alfabeto de orden pseudoaleatorio. No hay manera de saber cuál es el orden de este alfabeto, pero si ejecutamos un análisis de frecuencia, podremos hallar algunas pistas.\n",
    "\n",
    "Tomando en cuenta que en el inglés la letra que se repite más veces es la 'e', entonces con el análisis de frecuencia podremos saber cuál es la letra encriptada que más se repite y deducir que esa es la llave para la letra 'e'."
   ]
  },
  {
   "cell_type": "code",
   "execution_count": 122,
   "metadata": {},
   "outputs": [
    {
     "name": "stdout",
     "output_type": "stream",
     "text": [
      "['r', 'w', 'x', 't', 'i', 'a', 'c', 'v', 'l', 'n', 'o', 'b', 'm', 's', 'f', 'd', 'q', 'u', 'y', 'p', 'g', 'e', 'k', 'z', 'j', 'h']\n"
     ]
    }
   ],
   "source": [
    "\n",
    "from collections import Counter\n",
    "\n",
    "def get_most_freq_letters(file):\n",
    "    with open(file, 'r') as f:\n",
    "        c = Counter()\n",
    "        for line in f:\n",
    "            c += Counter(line[:-1])\n",
    "    return c.most_common()\n",
    "\n",
    "most_freq_letters = list(dict(get_most_freq_letters(\"./public/study-guide.txt\")).keys())\n",
    "print(most_freq_letters)"
   ]
  },
  {
   "cell_type": "markdown",
   "metadata": {},
   "source": [
    "Cómo observamos, la letra que más se repite en el archivo __study_guide.txt__ es la letra `r`. Por lo que podemos deducir que la `r` corresponde a la letra `e`.\n",
    "\n",
    "Además, sabemos que una de las palabras más frecuentes en inglés es `the`. En el flag hallamos algunas palabras encriptadas que podrían ser `the` como: `vfr`, `mid` y `exa`. Sin embargo, habíamos dicho que la letra `r` corresponde a la letra `e`. Por ello, `the` encriptado debería terminar con `r`. La única palabra que cumple esto es `vfr`; por lo cual también podemos deducir que: `v` = `t` y `f` = `h`. Así, con estas pistas podemos empezar un ataque para tratar de adivinar a qué palabra corresponde cada palabra encriptada del flag."
   ]
  },
  {
   "cell_type": "code",
   "execution_count": 6,
   "metadata": {},
   "outputs": [
    {
     "name": "stdout",
     "output_type": "stream",
     "text": [
      "\n",
      "Current flag decrypted: bechxba_the_mid_hosbem_ipec_exa_hoat_twcem\n",
      "perhaps -> bechxba?\n",
      "\n",
      "Current flag decrypted: perhaps_the_mid_hosbem_ipec_exa_hoat_twcem\n",
      "the -> the?\n",
      "\n",
      "Current flag decrypted: perhaps_the_mid_hosbem_ipec_exa_hoat_twcem\n",
      "you -> mid?\n",
      "now -> mid?\n",
      "buy -> mid?\n",
      "own -> mid?\n",
      "big -> mid?\n",
      "old -> mid?\n",
      "low -> mid?\n",
      "job -> mid?\n",
      "box -> mid?\n",
      "nov -> mid?\n",
      "god -> mid?\n",
      "log -> mid?\n",
      "fun -> mid?\n",
      "jul -> mid?\n",
      "jun -> mid?\n",
      "oil -> mid?\n",
      "dog -> mid?\n",
      "\n",
      "Current flag decrypted: perhaps_the_dog_hosbem_ipec_exa_hoat_twcem\n",
      "hosted -> hosbem?\n",
      "\n",
      "Current flag decrypted: perhaps_the_dog_hosped_ipec_exa_hoat_twcem\n",
      "open -> ipec?\n",
      "mpeg -> ipec?\n",
      "spec -> ipec?\n",
      "jpeg -> ipec?\n",
      "\n",
      "Current flag decrypted: perhaps_the_dog_hosped_ipec_exa_hoat_twcem\n",
      "era -> exa?\n",
      "epa -> exa?\n",
      "eva -> exa?\n",
      "\n",
      "Current flag decrypted: perhaps_the_dog_hosped_ipec_exa_hoat_twcem\n",
      "\n",
      "Current flag decrypted: perhaps_the_dog_hosped_ipec_exa_hoat_twcem\n",
      "times -> twcem?\n",
      "taken -> twcem?\n",
      "types -> twcem?\n",
      "takes -> twcem?\n",
      "tried -> twcem?\n",
      "taxes -> twcem?\n",
      "tower -> twcem?\n",
      "tiger -> twcem?\n",
      "tones -> twcem?\n",
      "tales -> twcem?\n",
      "tired -> twcem?\n"
     ]
    }
   ],
   "source": [
    "flag_file = open(\"./public/flag.txt\", \"r\")\n",
    "flag = flag_file.read()\n",
    "flag_file.close()\n",
    "\n",
    "common_words_file = open(\"./public/words.txt\", \"r\")\n",
    "common_words = common_words_file.read().split(\"\\n\")\n",
    "common_words_file.close()\n",
    "\n",
    "def get_all_repeated_letter_positions(word):\n",
    "    letter_positions = {}\n",
    "    for index, char in enumerate(word):\n",
    "        if char in letter_positions:\n",
    "            letter_positions[char].append(index)\n",
    "        else:\n",
    "            letter_positions[char] = [index]\n",
    "    return letter_positions\n",
    "\n",
    "def get_similar_words(ew, dictionary):\n",
    "    similar_words = []\n",
    "    for cw in common_words:\n",
    "        if (len(cw) == len(ew)):\n",
    "            count_cw = get_all_repeated_letter_positions(cw)\n",
    "            count_ew = get_all_repeated_letter_positions(ew)\n",
    "            if list(count_cw.values()) == list(count_ew.values()):\n",
    "                keys_on_ew = [key for key in dictionary.values() if key in count_ew.keys()]\n",
    "                if len(keys_on_ew)>0:\n",
    "                    if all([key in count_cw.keys() for key in keys_on_ew]):\n",
    "                        if all([count_cw[key] == count_ew[key] for key in keys_on_ew]):\n",
    "                            similar_words.append(cw)\n",
    "                else:\n",
    "                    if all([key not in dictionary.values() for key in count_cw.keys()]):\n",
    "                        similar_words.append(cw)\n",
    "    return similar_words\n",
    "\n",
    "def update_dictionary(dictionary, ew, w):\n",
    "    for i, c in enumerate(ew):\n",
    "        if (w[i] not in dictionary.values()):\n",
    "            dictionary[c] = w[i]\n",
    "    return dictionary\n",
    "\n",
    "def decrypt_flag(flag, dictionary):\n",
    "    result = \"\"\n",
    "    for letter in flag:\n",
    "        if letter in dictionary.keys():\n",
    "            result += dictionary[letter]\n",
    "        else:\n",
    "            result += letter\n",
    "    return result\n",
    "\n",
    "dictionary = {'r': 'e', 'v': 't', 'f': 'h'} # inicializamos con los resultados del analisis de frecuencias\n",
    "flag = decrypt_flag(flag, dictionary).split(\"_\")\n",
    "\n",
    "while str(input(\"Would you like to continue guessing?[y/n]: \")) == 'y':\n",
    "    for i, ew in enumerate(flag):\n",
    "        print(f\"\\nCurrent flag decrypted: {'_'.join(flag)}\")\n",
    "        similar_words = get_similar_words(ew, dictionary)\n",
    "        if len(similar_words)>0:\n",
    "            for sw in similar_words:\n",
    "                print(f\"{sw} -> {ew}?\")\n",
    "                x = str(input(\"Do you want to update dictionary with this word?\"))\n",
    "                if x == 'y':\n",
    "                    dictionary = update_dictionary(dictionary, ew, sw)\n",
    "                    flag[i] = decrypt_flag(ew, dictionary)\n",
    "                    break    "
   ]
  },
  {
   "cell_type": "markdown",
   "metadata": {},
   "source": [
    "### New Caesar\n",
    "\n",
    "Ya hemos visto cómo funciona el cifrado César. Todo se basa en el desplazamiento acorde a una clave, que en este caso es una letra que puede ser entre la a - p. Para descifrar en cifrado César siempre recurrimos al proceso inverso. Por ejemplo, en el ejercicio de **Spelling quiz**, tuvimos que hacer el proceso inverso de $(x+k)\\%26$, que es $(x-k)\\%26$. Lo mismo sucede aquí, pero además de la operación modular, también existe una codificación en base 16 (b16). Así que tendremos que invertir la función de base 16 para decodificarla. Por último, para hallar el desplazamiento correcto, simplemente tendremos que iterar sobre todas las opciones de la 'a' a la 'p', hasta hallar un FLAG resultante que sea probablemente correcto.\n"
   ]
  },
  {
   "cell_type": "code",
   "execution_count": 157,
   "metadata": {},
   "outputs": [
    {
     "name": "stdout",
     "output_type": "stream",
     "text": [
      "Possible Flags:\n",
      "---> Using key n: et_tu?_07d5c0892c1438d2b32600e83dc2b0e5\n",
      "---> Using key o: TcNcd.N/&S$R/'(!R #\"'S!Q\"!%//T'\"SR!Q/T$\n"
     ]
    }
   ],
   "source": [
    "ENCRYPTED_FLAG = \"dcebcmebecamcmanaedbacdaanafagapdaaoabaaafdbapdpaaapadanandcafaadbdaapdpandcac\"\n",
    "\n",
    "ALPHABET = LOWER_ALPHABET[:16]\n",
    "\n",
    "def b16_decode(b16):\n",
    "    f = \"\"\n",
    "    for i in range(0, len(b16), 2):\n",
    "        x1 = ALPHABET.index(b16[i])\n",
    "        x2 = ALPHABET.index(b16[i+1])\n",
    "        b = \"{0:04b}\".format(x1) + \"{0:04b}\".format(x2)\n",
    "        f += chr(int(b, 2))\n",
    "    return f\n",
    "\n",
    "def unshift(e, k):\n",
    "    t1 = ord(e) + ord(ALPHABET[0])\n",
    "    t2 = ord(k) + ord(ALPHABET[0])\n",
    "    return ALPHABET[(t1 - t2) % len(ALPHABET)]\n",
    "\n",
    "def decrypt_new_caesar(enc):\n",
    "    print(\"Possible Flags:\")\n",
    "    for k in ALPHABET:\n",
    "        dec = \"\"\n",
    "        for e in enc:\n",
    "            dec += unshift(e, k)\n",
    "        flag = b16_decode(dec)\n",
    "        if all(char in string.printable for char in flag): #chequeamos si hay chars no imprimibles\n",
    "            print(f\"---> Using key {k}: {flag}\")\n",
    "        \n",
    "decrypt_new_caesar(ENCRYPTED_FLAG)"
   ]
  }
 ],
 "metadata": {
  "kernelspec": {
   "display_name": "base",
   "language": "python",
   "name": "python3"
  },
  "language_info": {
   "codemirror_mode": {
    "name": "ipython",
    "version": 3
   },
   "file_extension": ".py",
   "mimetype": "text/x-python",
   "name": "python",
   "nbconvert_exporter": "python",
   "pygments_lexer": "ipython3",
   "version": "3.9.13"
  },
  "orig_nbformat": 4
 },
 "nbformat": 4,
 "nbformat_minor": 2
}
